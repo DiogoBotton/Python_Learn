{
 "cells": [
  {
   "cell_type": "code",
   "execution_count": 10,
   "metadata": {},
   "outputs": [
    {
     "data": {
      "text/plain": [
       "2.75"
      ]
     },
     "execution_count": 10,
     "metadata": {},
     "output_type": "execute_result"
    }
   ],
   "source": [
    "import pandas as pd\n",
    "\n",
    "# Lê arquivo csv\n",
    "movieRatings = pd.read_csv(\"ratings.csv\")\n",
    "\n",
    "# Renomeia cabeçalhos\n",
    "movieRatings.columns = [\"usuarioId\", \"filmeId\", \"nota\", \"dataHora\"]\n",
    "\n",
    "# Adquire todas as notas e realiza uma média\n",
    "movieRatings['nota'].mean()"
   ]
  }
 ],
 "metadata": {
  "kernelspec": {
   "display_name": "Python 3",
   "language": "python",
   "name": "python3"
  },
  "language_info": {
   "codemirror_mode": {
    "name": "ipython",
    "version": 3
   },
   "file_extension": ".py",
   "mimetype": "text/x-python",
   "name": "python",
   "nbconvert_exporter": "python",
   "pygments_lexer": "ipython3",
   "version": "3.11.4"
  },
  "orig_nbformat": 4
 },
 "nbformat": 4,
 "nbformat_minor": 2
}
