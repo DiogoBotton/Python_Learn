{
 "cells": [
  {
   "cell_type": "markdown",
   "metadata": {},
   "source": [
    "Cada função é uma regra que recebe zero ou mais entradas (parâmetros) e retorna a saída correspondente."
   ]
  },
  {
   "cell_type": "code",
   "execution_count": 1,
   "metadata": {},
   "outputs": [],
   "source": [
    "def double(x):\n",
    "    \"\"\"\n",
    "    Função que multiplica um número por 2\n",
    "    \"\"\"\n",
    "    return x * 2"
   ]
  },
  {
   "cell_type": "markdown",
   "metadata": {},
   "source": [
    "As funções de Python são de *primeira classe*, ou seja, podemos **atribuí-las a variáveis e inseri-las nas funções como argumentos**."
   ]
  },
  {
   "cell_type": "code",
   "execution_count": 2,
   "metadata": {},
   "outputs": [
    {
     "name": "stdout",
     "output_type": "stream",
     "text": [
      "Resultado do apply_to_one:  2\n"
     ]
    }
   ],
   "source": [
    "def apply_to_one(function):\n",
    "    '''Chama a função function usando 1 como argumento'''\n",
    "    return function(1)\n",
    "\n",
    "my_double = double\n",
    "\n",
    "x = apply_to_one(my_double)\n",
    "print('Resultado do apply_to_one: ', x)"
   ]
  },
  {
   "cell_type": "markdown",
   "metadata": {},
   "source": [
    "Também é fácil criar pequenas **funções anônimas**, as **lambdas**."
   ]
  },
  {
   "cell_type": "code",
   "execution_count": 3,
   "metadata": {},
   "outputs": [
    {
     "name": "stdout",
     "output_type": "stream",
     "text": [
      "Resultado do apply_to_one com função anônima:  5\n"
     ]
    }
   ],
   "source": [
    "anonymous_function = apply_to_one(lambda anonymous: anonymous + 4)\n",
    "print('Resultado do apply_to_one com função anônima: ', anonymous_function)"
   ]
  }
 ],
 "metadata": {
  "kernelspec": {
   "display_name": "Python 3",
   "language": "python",
   "name": "python3"
  },
  "language_info": {
   "codemirror_mode": {
    "name": "ipython",
    "version": 3
   },
   "file_extension": ".py",
   "mimetype": "text/x-python",
   "name": "python",
   "nbconvert_exporter": "python",
   "pygments_lexer": "ipython3",
   "version": "3.10.10"
  }
 },
 "nbformat": 4,
 "nbformat_minor": 2
}
