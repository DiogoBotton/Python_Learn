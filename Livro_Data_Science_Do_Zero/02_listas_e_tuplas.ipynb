{
 "cells": [
  {
   "cell_type": "markdown",
   "metadata": {},
   "source": [
    "### Listas\n",
    "\n",
    "Provavelmente, a estrutura mais fundamental do Python é a *lista*. Uma lista é apenas uma coleção ordenada, parecida com o *array* das outras linguagens, mas com funcionalidades adicionais."
   ]
  },
  {
   "cell_type": "code",
   "execution_count": 1,
   "metadata": {},
   "outputs": [],
   "source": [
    "lista = [0, 1, 2, 3, 4, 5, 6, 7, 8, 9]"
   ]
  },
  {
   "cell_type": "markdown",
   "metadata": {},
   "source": [
    "É possível obter e definir o elemento de número *n* de uma lista usando colchetes:"
   ]
  },
  {
   "cell_type": "code",
   "execution_count": 2,
   "metadata": {},
   "outputs": [],
   "source": [
    "um = lista[1]\n",
    "oito = [-2] # Retorna número 8 (penúltimo elemento)\n",
    "nove = [-1] # Retorna número 9 (último elemento)"
   ]
  },
  {
   "cell_type": "markdown",
   "metadata": {},
   "source": [
    "Também é possível utilizar colchetes para **fatiar** as listas com [x:y].\n",
    "\n",
    "Se o ínicio da fatia (x) não for indicado, ela começará no início da lista.\n",
    "\n",
    "Se o final da fatia (y) não for indicado, ela terminará no final da lista.\n",
    "\n",
    "Do mesmo modo também é possível fatiar strings ou outros tipos de sequências."
   ]
  },
  {
   "cell_type": "code",
   "execution_count": 3,
   "metadata": {},
   "outputs": [
    {
     "name": "stdout",
     "output_type": "stream",
     "text": [
      "Primeiros três números da lista:  [0, 1, 2]\n",
      "Do terceiro até o último item da lista:  [3, 4, 5, 6, 7, 8, 9]\n",
      "Do primeiro até o quarto item da lista:  [1, 2, 3, 4]\n",
      "Últimos três números da lista:  [7, 8, 9]\n",
      "Últimos três números da lista desconsiderando o último:  [7, 8]\n",
      "Sem o primeiro e último itens da lista:  [1, 2, 3, 4, 5, 6, 7, 8]\n"
     ]
    }
   ],
   "source": [
    "primeiros_tres = lista[:3]\n",
    "print('Primeiros três números da lista: ', primeiros_tres)\n",
    "\n",
    "terceiro_ate_ultimo = lista[3:]\n",
    "print('Do terceiro até o último item da lista: ', terceiro_ate_ultimo)\n",
    "\n",
    "primeiro_ate_quatro = lista[1:5]\n",
    "print('Do primeiro até o quarto item da lista: ', primeiro_ate_quatro)\n",
    "\n",
    "ultimos_tres = lista[-3:]\n",
    "print('Últimos três números da lista: ', ultimos_tres)\n",
    "\n",
    "ultimos_tres_desconsidera_ultimo = lista[-3:-1]\n",
    "print('Últimos três números da lista desconsiderando o último: ', ultimos_tres_desconsidera_ultimo)\n",
    "\n",
    "sem_primeiro_e_ultimo = lista[1:-1]\n",
    "print('Sem o primeiro e último itens da lista: ', sem_primeiro_e_ultimo)"
   ]
  },
  {
   "cell_type": "markdown",
   "metadata": {},
   "source": [
    "A *fatia* pode receber um terceiro argumento para insicar o *stride* (número de passos), que pode ser negativo:"
   ]
  },
  {
   "cell_type": "code",
   "execution_count": 4,
   "metadata": {},
   "outputs": [
    {
     "name": "stdout",
     "output_type": "stream",
     "text": [
      "Todos os números, de três em três:  [0, 3, 6, 9]\n",
      "Do quinto ao terceiro item, de um em um:  [5, 4, 3]\n"
     ]
    }
   ],
   "source": [
    "todos_tres_em_tres = lista[::3]\n",
    "print('Todos os números, de três em três: ', todos_tres_em_tres)\n",
    "\n",
    "cinco_ao_tres = lista[5:2:-1]\n",
    "print('Do quinto ao terceiro item, de um em um: ', cinco_ao_tres)"
   ]
  },
  {
   "cell_type": "markdown",
   "metadata": {},
   "source": [
    "O Python dispõe de um operador in para verificar a associação à lista.\n",
    "\n",
    "Porém essa verificação analisa todos os elementos da lista. Só deve ser executado se a lista for bem pequena ou se o tempo da verificação não for importante, pois com listas muito grandes, o tempo pode ser maior."
   ]
  },
  {
   "cell_type": "code",
   "execution_count": 5,
   "metadata": {},
   "outputs": [
    {
     "name": "stdout",
     "output_type": "stream",
     "text": [
      "Há o número 1 na lista? True\n",
      "Há o número -1 na lista? False\n"
     ]
    }
   ],
   "source": [
    "print('Há o número 1 na lista?', 1 in lista)\n",
    "print('Há o número -1 na lista?', -1 in lista)"
   ]
  },
  {
   "cell_type": "markdown",
   "metadata": {},
   "source": [
    "Para adicionar itens de uma outra coleção, é possível utilizar o *extend*:"
   ]
  },
  {
   "cell_type": "code",
   "execution_count": 6,
   "metadata": {},
   "outputs": [
    {
     "name": "stdout",
     "output_type": "stream",
     "text": [
      "Nova lista concatenada: [1, 2, 3, 4, 5, 6]\n"
     ]
    }
   ],
   "source": [
    "lista_concatenada = [1, 2, 3]\n",
    "\n",
    "lista_concatenada.extend([4, 5, 6])\n",
    "\n",
    "print('Nova lista concatenada:', lista_concatenada)"
   ]
  },
  {
   "cell_type": "markdown",
   "metadata": {},
   "source": [
    "Caso seja necessário não modificar a lista anterior, é possível realizar a adição de listas:"
   ]
  },
  {
   "cell_type": "code",
   "execution_count": 7,
   "metadata": {},
   "outputs": [
    {
     "name": "stdout",
     "output_type": "stream",
     "text": [
      "x:  [1, 2, 3]\n",
      "y:  [1, 2, 3, 4, 5, 6]\n"
     ]
    }
   ],
   "source": [
    "x = [1, 2, 3]\n",
    "y = x + [4, 5, 6]\n",
    "\n",
    "print('x: ', x) # x não mudou\n",
    "print('y: ', y)"
   ]
  },
  {
   "cell_type": "markdown",
   "metadata": {},
   "source": [
    "É possível adicionar item por item com *append*:"
   ]
  },
  {
   "cell_type": "code",
   "execution_count": 8,
   "metadata": {},
   "outputs": [
    {
     "name": "stdout",
     "output_type": "stream",
     "text": [
      "Lista com o número novo: [1, 2, 3, 0]\n"
     ]
    }
   ],
   "source": [
    "x.append(0)\n",
    "print('Lista com o número novo:', x)"
   ]
  },
  {
   "cell_type": "markdown",
   "metadata": {},
   "source": [
    "As vezes é preciso descompactar as listas **quando sabemos quantos elementos elas contêm**:"
   ]
  },
  {
   "cell_type": "code",
   "execution_count": 20,
   "metadata": {},
   "outputs": [
    {
     "name": "stdout",
     "output_type": "stream",
     "text": [
      "x: 1\n",
      "y: 2\n"
     ]
    }
   ],
   "source": [
    "x, y = [1, 2]\n",
    "\n",
    "print('x:', x)\n",
    "print('y:', y)"
   ]
  },
  {
   "cell_type": "code",
   "execution_count": 10,
   "metadata": {},
   "outputs": [
    {
     "ename": "ValueError",
     "evalue": "too many values to unpack (expected 2)",
     "output_type": "error",
     "traceback": [
      "\u001b[1;31m---------------------------------------------------------------------------\u001b[0m",
      "\u001b[1;31mValueError\u001b[0m                                Traceback (most recent call last)",
      "Cell \u001b[1;32mIn[10], line 2\u001b[0m\n\u001b[0;32m      1\u001b[0m \u001b[38;5;66;03m# Isto dá erro, pois é esperado 2 itens e é retornado 3\u001b[39;00m\n\u001b[1;32m----> 2\u001b[0m x, y \u001b[38;5;241m=\u001b[39m [\u001b[38;5;241m1\u001b[39m, \u001b[38;5;241m2\u001b[39m, \u001b[38;5;241m3\u001b[39m]\n\u001b[0;32m      4\u001b[0m \u001b[38;5;66;03m# Isto também, pois é esperado 3 itens e é retornado 2\u001b[39;00m\n\u001b[0;32m      5\u001b[0m x, y, z \u001b[38;5;241m=\u001b[39m [\u001b[38;5;241m1\u001b[39m, \u001b[38;5;241m2\u001b[39m]\n",
      "\u001b[1;31mValueError\u001b[0m: too many values to unpack (expected 2)"
     ]
    }
   ],
   "source": [
    "# Isto dá erro, pois é esperado 2 itens e é retornado 3\n",
    "x, y = [1, 2, 3]\n",
    "\n",
    "# Isto também, pois é esperado 3 itens e é retornado 2\n",
    "x, y, z = [1, 2]"
   ]
  },
  {
   "cell_type": "markdown",
   "metadata": {},
   "source": [
    "Geralmente, usamos um sublinhado para indicar o valor que será descartado, porém, o valor ainda será atribuída à variável sublinhado (_):"
   ]
  },
  {
   "cell_type": "code",
   "execution_count": 11,
   "metadata": {},
   "outputs": [
    {
     "name": "stdout",
     "output_type": "stream",
     "text": [
      "sublinhado descartado: 1\n",
      "y: 2\n"
     ]
    }
   ],
   "source": [
    "_, y = [1,2]\n",
    "\n",
    "print('sublinhado descartado:', _)\n",
    "print('y:', y)"
   ]
  },
  {
   "cell_type": "markdown",
   "metadata": {},
   "source": [
    "### Tuplas\n",
    "\n",
    "As tuplas são muito parecidas com as listas, porém, **não podem ser modificadas**.\n",
    "\n",
    "Para especificar uma tupla, use parênteses (ou nada) em vez de colchetes:"
   ]
  },
  {
   "cell_type": "code",
   "execution_count": 12,
   "metadata": {},
   "outputs": [
    {
     "name": "stdout",
     "output_type": "stream",
     "text": [
      "tupla: (1, 2)\n",
      "outra tupla: (1, 2, 3, 4, 5, '', None, True)\n"
     ]
    }
   ],
   "source": [
    "minha_lista = [1,2]\n",
    "minha_tupla = (1,2)\n",
    "outra_tupla_varios_tipos = 1, 2, 3, 4, 5, '', None, True\n",
    "\n",
    "print('tupla:', minha_tupla)\n",
    "print('outra tupla:', outra_tupla_varios_tipos)"
   ]
  },
  {
   "cell_type": "markdown",
   "metadata": {},
   "source": [
    "A tupla também é uma forma eficaz de usar funções para retornar múltiplos valores:"
   ]
  },
  {
   "cell_type": "code",
   "execution_count": 13,
   "metadata": {},
   "outputs": [
    {
     "name": "stdout",
     "output_type": "stream",
     "text": [
      "Soma: 15\n",
      "Multiplicação: 50\n"
     ]
    }
   ],
   "source": [
    "def soma_e_produto(x, y):\n",
    "    return (x + y), (x * y)\n",
    "\n",
    "soma, produto = soma_e_produto(5,10)\n",
    "\n",
    "print('Soma:', soma)\n",
    "print('Multiplicação:', produto)"
   ]
  }
 ],
 "metadata": {
  "kernelspec": {
   "display_name": "Python 3",
   "language": "python",
   "name": "python3"
  },
  "language_info": {
   "codemirror_mode": {
    "name": "ipython",
    "version": 3
   },
   "file_extension": ".py",
   "mimetype": "text/x-python",
   "name": "python",
   "nbconvert_exporter": "python",
   "pygments_lexer": "ipython3",
   "version": "3.10.10"
  }
 },
 "nbformat": 4,
 "nbformat_minor": 2
}
