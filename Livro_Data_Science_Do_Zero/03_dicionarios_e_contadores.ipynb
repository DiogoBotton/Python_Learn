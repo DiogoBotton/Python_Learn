{
 "cells": [
  {
   "cell_type": "markdown",
   "metadata": {},
   "source": [
    "### Dicionários\n",
    "\n",
    "Outra estrutura fundamental é o dicionário, que associa *valores* a *chaves*, formando **pares de chave-valor**, onde permite a rápida recuperação do valor correspondente a uma determinada chave. "
   ]
  },
  {
   "cell_type": "code",
   "execution_count": 3,
   "metadata": {},
   "outputs": [],
   "source": [
    "usuario = {\n",
    "    'nome': 'Diogo',\n",
    "    'interesses': ['C#', 'Python', 'ML']\n",
    "}"
   ]
  },
  {
   "cell_type": "code",
   "execution_count": 4,
   "metadata": {},
   "outputs": [
    {
     "data": {
      "text/plain": [
       "True"
      ]
     },
     "execution_count": 4,
     "metadata": {},
     "output_type": "execute_result"
    }
   ],
   "source": [
    "'nome' in usuario"
   ]
  },
  {
   "cell_type": "code",
   "execution_count": 5,
   "metadata": {},
   "outputs": [
    {
     "data": {
      "text/plain": [
       "False"
      ]
     },
     "execution_count": 5,
     "metadata": {},
     "output_type": "execute_result"
    }
   ],
   "source": [
    "'Diogo' in usuario # False pois, desta forma, pesquisa pelas chaves e não valores"
   ]
  },
  {
   "cell_type": "markdown",
   "metadata": {},
   "source": [
    "Além de procurarp or chaves específicas, podemos conferir todas elas:"
   ]
  },
  {
   "cell_type": "code",
   "execution_count": 6,
   "metadata": {},
   "outputs": [
    {
     "name": "stdout",
     "output_type": "stream",
     "text": [
      "dict_keys(['nome', 'interesses'])\n"
     ]
    }
   ],
   "source": [
    "usuario_keys = usuario.keys() # Iterável para as chaves\n",
    "print(usuario_keys)"
   ]
  },
  {
   "cell_type": "code",
   "execution_count": 7,
   "metadata": {},
   "outputs": [
    {
     "name": "stdout",
     "output_type": "stream",
     "text": [
      "dict_values(['Diogo', ['C#', 'Python', 'ML']])\n"
     ]
    }
   ],
   "source": [
    "usuario_values = usuario.values() # Iterável para os valores\n",
    "print(usuario_values)"
   ]
  },
  {
   "cell_type": "code",
   "execution_count": 8,
   "metadata": {},
   "outputs": [
    {
     "name": "stdout",
     "output_type": "stream",
     "text": [
      "dict_items([('nome', 'Diogo'), ('interesses', ['C#', 'Python', 'ML'])])\n"
     ]
    }
   ],
   "source": [
    "usuario_items = usuario.items() # Iterável para as tuplas (chave, valor)\n",
    "print(usuario_items)"
   ]
  },
  {
   "cell_type": "markdown",
   "metadata": {},
   "source": [
    "Para buscar chaves ou itens específicos:"
   ]
  },
  {
   "cell_type": "code",
   "execution_count": 9,
   "metadata": {},
   "outputs": [
    {
     "data": {
      "text/plain": [
       "True"
      ]
     },
     "execution_count": 9,
     "metadata": {},
     "output_type": "execute_result"
    }
   ],
   "source": [
    "'nome' in usuario_keys"
   ]
  },
  {
   "cell_type": "code",
   "execution_count": 10,
   "metadata": {},
   "outputs": [
    {
     "data": {
      "text/plain": [
       "True"
      ]
     },
     "execution_count": 10,
     "metadata": {},
     "output_type": "execute_result"
    }
   ],
   "source": [
    "# Também é possível buscar pelas chaves simplesmente referenciando o próprio dicionário (forma mais fácil)\n",
    "'nome' in usuario"
   ]
  },
  {
   "cell_type": "code",
   "execution_count": 11,
   "metadata": {},
   "outputs": [
    {
     "data": {
      "text/plain": [
       "True"
      ]
     },
     "execution_count": 11,
     "metadata": {},
     "output_type": "execute_result"
    }
   ],
   "source": [
    "'Diogo' in usuario_values # É lento pois pesquisa por todos os itens, porém é a única forma de verificar"
   ]
  },
  {
   "cell_type": "markdown",
   "metadata": {},
   "source": [
    "É possível adquirir valores através do método *get*, onde **retornará um valor padrão** ao invés de gerar uma exceção ao **tentar capturar uma chave não existente**."
   ]
  },
  {
   "cell_type": "code",
   "execution_count": 12,
   "metadata": {},
   "outputs": [
    {
     "ename": "KeyError",
     "evalue": "'projetos'",
     "output_type": "error",
     "traceback": [
      "\u001b[1;31m---------------------------------------------------------------------------\u001b[0m",
      "\u001b[1;31mKeyError\u001b[0m                                  Traceback (most recent call last)",
      "Cell \u001b[1;32mIn[12], line 2\u001b[0m\n\u001b[0;32m      1\u001b[0m \u001b[38;5;66;03m# Isto dará erro\u001b[39;00m\n\u001b[1;32m----> 2\u001b[0m \u001b[43musuario\u001b[49m\u001b[43m[\u001b[49m\u001b[38;5;124;43m'\u001b[39;49m\u001b[38;5;124;43mprojetos\u001b[39;49m\u001b[38;5;124;43m'\u001b[39;49m\u001b[43m]\u001b[49m\n",
      "\u001b[1;31mKeyError\u001b[0m: 'projetos'"
     ]
    }
   ],
   "source": [
    "# Isto dará erro\n",
    "usuario['projetos']"
   ]
  },
  {
   "cell_type": "code",
   "execution_count": 13,
   "metadata": {},
   "outputs": [
    {
     "name": "stdout",
     "output_type": "stream",
     "text": [
      "None\n"
     ]
    }
   ],
   "source": [
    "# Isto não dará erro (retornará um valor padrão, None caso não for específicado)\n",
    "print(usuario.get('projetos'))"
   ]
  },
  {
   "cell_type": "code",
   "execution_count": 14,
   "metadata": {},
   "outputs": [
    {
     "data": {
      "text/plain": [
       "-1"
      ]
     },
     "execution_count": 14,
     "metadata": {},
     "output_type": "execute_result"
    }
   ],
   "source": [
    "# Retornará -1 (valor padrão) caso não for encontrado a chave\n",
    "usuario.get('projetos', -1)"
   ]
  },
  {
   "cell_type": "markdown",
   "metadata": {},
   "source": [
    "Para adicionar itens a um dicionário com chaves não existentes de uma forma mais fácil, podemos utilizar o *defaultdict*."
   ]
  },
  {
   "cell_type": "code",
   "execution_count": 15,
   "metadata": {},
   "outputs": [
    {
     "data": {
      "text/plain": [
       "defaultdict(int, {})"
      ]
     },
     "execution_count": 15,
     "metadata": {},
     "output_type": "execute_result"
    }
   ],
   "source": [
    "from collections import defaultdict\n",
    "\n",
    "# Iremos contar quantas palavras há na frase.\n",
    "frase = 'Olá eu sou o Diogo Diogo de novo'\n",
    "frase = frase.lower().split(' ')\n",
    "\n",
    "contador_palavras = defaultdict(int)\n",
    "contador_palavras"
   ]
  },
  {
   "cell_type": "markdown",
   "metadata": {},
   "source": [
    "A cada palavra adiciona-o no dicionário (existindo ou não) e soma +1."
   ]
  },
  {
   "cell_type": "code",
   "execution_count": 16,
   "metadata": {},
   "outputs": [
    {
     "data": {
      "text/plain": [
       "defaultdict(int,\n",
       "            {'olá': 1,\n",
       "             'eu': 1,\n",
       "             'sou': 1,\n",
       "             'o': 1,\n",
       "             'diogo': 2,\n",
       "             'de': 1,\n",
       "             'novo': 1})"
      ]
     },
     "execution_count": 16,
     "metadata": {},
     "output_type": "execute_result"
    }
   ],
   "source": [
    "for palavra in frase:\n",
    "    contador_palavras[palavra] += 1\n",
    "\n",
    "contador_palavras"
   ]
  },
  {
   "cell_type": "code",
   "execution_count": 21,
   "metadata": {},
   "outputs": [
    {
     "name": "stdout",
     "output_type": "stream",
     "text": [
      "Quantos Diogos? 2\n",
      "Quantas Vanessas? 0\n"
     ]
    }
   ],
   "source": [
    "print('Quantos Diogos?', contador_palavras.get('diogo'))\n",
    "print('Quantas Vanessas?', contador_palavras.get('vanessa', 0)) # Retorna 0 caso não encontrar a chave"
   ]
  },
  {
   "cell_type": "markdown",
   "metadata": {},
   "source": [
    "### Contadores\n",
    "\n",
    "Uma outra forma mais fácil de resolver o problema da contagem de palavras é utilizando *Counter*, onde irá converter uma sequência de valores em algo parecido com o objeto *defaultdict*, mapeando as chaves correspondentes às contagens."
   ]
  },
  {
   "cell_type": "code",
   "execution_count": 23,
   "metadata": {},
   "outputs": [
    {
     "data": {
      "text/plain": [
       "Counter({'diogo': 2, 'olá': 1, 'eu': 1, 'sou': 1, 'o': 1, 'de': 1, 'novo': 1})"
      ]
     },
     "execution_count": 23,
     "metadata": {},
     "output_type": "execute_result"
    }
   ],
   "source": [
    "from collections import Counter\n",
    "\n",
    "contador_palavras_2 = Counter(frase)\n",
    "contador_palavras_2"
   ]
  }
 ],
 "metadata": {
  "kernelspec": {
   "display_name": "Python 3",
   "language": "python",
   "name": "python3"
  },
  "language_info": {
   "codemirror_mode": {
    "name": "ipython",
    "version": 3
   },
   "file_extension": ".py",
   "mimetype": "text/x-python",
   "name": "python",
   "nbconvert_exporter": "python",
   "pygments_lexer": "ipython3",
   "version": "3.10.10"
  }
 },
 "nbformat": 4,
 "nbformat_minor": 2
}
