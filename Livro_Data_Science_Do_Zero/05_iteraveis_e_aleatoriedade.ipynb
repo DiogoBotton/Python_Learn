{
 "cells": [
  {
   "cell_type": "markdown",
   "metadata": {},
   "source": [
    "### Iteráveis\n",
    "\n",
    "Em uma lista, talvez seja necessário adquirir o índice de cada iteração atual no laço de repetição, para isto podemos usar o *enumerate*, que transforma os valores em pares (index, value)."
   ]
  },
  {
   "cell_type": "code",
   "execution_count": 21,
   "metadata": {},
   "outputs": [],
   "source": [
    "nomes = ['Carlos', 'Luiza', 'Diogo', 'Vanessa']"
   ]
  },
  {
   "cell_type": "code",
   "execution_count": 22,
   "metadata": {},
   "outputs": [
    {
     "name": "stdout",
     "output_type": "stream",
     "text": [
      "nome_0: Carlos\n",
      "nome_1: Luiza\n",
      "nome_2: Diogo\n",
      "nome_3: Vanessa\n"
     ]
    }
   ],
   "source": [
    "for index, nome in enumerate(nomes):\n",
    "    print(f'nome_{index}: {nome}')"
   ]
  },
  {
   "cell_type": "markdown",
   "metadata": {},
   "source": [
    "Porém seria a mesma coisa de criar uma variável iteradora:"
   ]
  },
  {
   "cell_type": "code",
   "execution_count": 23,
   "metadata": {},
   "outputs": [
    {
     "name": "stdout",
     "output_type": "stream",
     "text": [
      "nome_0: Carlos\n",
      "nome_1: Luiza\n",
      "nome_2: Diogo\n",
      "nome_3: Vanessa\n"
     ]
    }
   ],
   "source": [
    "index = 0\n",
    "for nome in nomes:\n",
    "    print(f'nome_{index}: {nome}')\n",
    "    index += 1"
   ]
  },
  {
   "cell_type": "markdown",
   "metadata": {},
   "source": [
    "Porém desta forma, não seria \"Pythonica\", pois temos um recurso do Python (*enumerate*) que facilita esse processo de iteração onde é preciso resgatar o índice."
   ]
  },
  {
   "cell_type": "markdown",
   "metadata": {},
   "source": [
    "### Aleatoriedade\n",
    "\n",
    "As vezes temos que gerar números aleatórios, isso pode ser feito com o módulo *random*.\n",
    "\n",
    "O módulo *random* produz números **pseudoaleatórios** (ou seja, determinísticos) com base em um estado interno chamado **semente** (*seed*) que podemos definir utilizando *random.seed*."
   ]
  },
  {
   "cell_type": "code",
   "execution_count": 24,
   "metadata": {},
   "outputs": [
    {
     "name": "stdout",
     "output_type": "stream",
     "text": [
      "0.5714025946899135\n",
      "0.4288890546751146\n"
     ]
    }
   ],
   "source": [
    "import random\n",
    "\n",
    "# Definindo a seed como 10 e imprimindo 2 números aleatórios em sequência\n",
    "random.seed(10)\n",
    "print(random.random())\n",
    "print(random.random())"
   ]
  },
  {
   "cell_type": "markdown",
   "metadata": {},
   "source": [
    "Quando definimos o número do seed a cada geração de número aleatório, a seed reseta e temos o mesmo número para cada geração.\n",
    "\n",
    "Isto serve para obtermos **resultados reproduzíveis**."
   ]
  },
  {
   "cell_type": "code",
   "execution_count": 25,
   "metadata": {},
   "outputs": [
    {
     "name": "stdout",
     "output_type": "stream",
     "text": [
      "0.5714025946899135\n",
      "0.5714025946899135\n"
     ]
    }
   ],
   "source": [
    "random.seed(10)\n",
    "print(random.random())\n",
    "random.seed(10)\n",
    "print(random.random())"
   ]
  }
 ],
 "metadata": {
  "kernelspec": {
   "display_name": "Python 3",
   "language": "python",
   "name": "python3"
  },
  "language_info": {
   "codemirror_mode": {
    "name": "ipython",
    "version": 3
   },
   "file_extension": ".py",
   "mimetype": "text/x-python",
   "name": "python",
   "nbconvert_exporter": "python",
   "pygments_lexer": "ipython3",
   "version": "3.10.10"
  }
 },
 "nbformat": 4,
 "nbformat_minor": 2
}
