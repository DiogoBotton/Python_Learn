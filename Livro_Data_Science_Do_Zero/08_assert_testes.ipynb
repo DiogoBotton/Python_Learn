{
 "cells": [
  {
   "cell_type": "markdown",
   "metadata": {},
   "source": [
    "Podemos utilizar o *assert* para realizar alguns testes automatizados na aplicação. Claro que há frameworks poderosos no Python para realizar testes automatizados mais completos, porém, este é uma das formas de assegurar que o seu código está correto sem utilizar frameworks prontos.\n",
    "\n",
    "Podemos definir a condicional correta, o segundo parâmetro seria o erro que aparecerá ao usuário em caso do teste falhar."
   ]
  },
  {
   "cell_type": "code",
   "execution_count": 1,
   "metadata": {},
   "outputs": [],
   "source": [
    "assert 1 + 1 == 2\n",
    "assert 1 + 1 == 2, \" 1 + 1 deve ser igual à 2 mas não é\""
   ]
  },
  {
   "cell_type": "markdown",
   "metadata": {},
   "source": [
    "Porém, não é muito interessante declarar que 1 + 1 = 2. É bem melhor declarar que **funções estão funcionando como esperado**:"
   ]
  },
  {
   "cell_type": "code",
   "execution_count": 2,
   "metadata": {},
   "outputs": [],
   "source": [
    "def soma(x, y):\n",
    "    return x + y"
   ]
  },
  {
   "cell_type": "code",
   "execution_count": 3,
   "metadata": {},
   "outputs": [],
   "source": [
    "assert soma(5,5) == 10, \"5 + 5 deve ser igual à 10 mas não é\"\n",
    "assert soma(2,2) == 4, \"2 + 2 deve ser igual à 4 mas não é\""
   ]
  },
  {
   "cell_type": "markdown",
   "metadata": {},
   "source": [
    "Uma situação de falha:"
   ]
  },
  {
   "cell_type": "code",
   "execution_count": 4,
   "metadata": {},
   "outputs": [],
   "source": [
    "# Esta função está errada de propósito, realizando o quadrado de x ao invés do produto de x e y\n",
    "def produto(x, y):\n",
    "    return x + x"
   ]
  },
  {
   "cell_type": "code",
   "execution_count": 5,
   "metadata": {},
   "outputs": [
    {
     "ename": "AssertionError",
     "evalue": "2 * 5 deve ser igual à 10 mas não é",
     "output_type": "error",
     "traceback": [
      "\u001b[1;31m---------------------------------------------------------------------------\u001b[0m",
      "\u001b[1;31mAssertionError\u001b[0m                            Traceback (most recent call last)",
      "Cell \u001b[1;32mIn[5], line 1\u001b[0m\n\u001b[1;32m----> 1\u001b[0m \u001b[38;5;28;01massert\u001b[39;00m produto(\u001b[38;5;241m2\u001b[39m,\u001b[38;5;241m5\u001b[39m) \u001b[38;5;241m==\u001b[39m \u001b[38;5;241m10\u001b[39m, \u001b[38;5;124m\"\u001b[39m\u001b[38;5;124m2 * 5 deve ser igual à 10 mas não é\u001b[39m\u001b[38;5;124m\"\u001b[39m\n",
      "\u001b[1;31mAssertionError\u001b[0m: 2 * 5 deve ser igual à 10 mas não é"
     ]
    }
   ],
   "source": [
    "assert produto(2,5) == 10, \"2 * 5 deve ser igual à 10 mas não é\""
   ]
  }
 ],
 "metadata": {
  "kernelspec": {
   "display_name": "Python 3",
   "language": "python",
   "name": "python3"
  },
  "language_info": {
   "codemirror_mode": {
    "name": "ipython",
    "version": 3
   },
   "file_extension": ".py",
   "mimetype": "text/x-python",
   "name": "python",
   "nbconvert_exporter": "python",
   "pygments_lexer": "ipython3",
   "version": "3.10.10"
  }
 },
 "nbformat": 4,
 "nbformat_minor": 2
}
