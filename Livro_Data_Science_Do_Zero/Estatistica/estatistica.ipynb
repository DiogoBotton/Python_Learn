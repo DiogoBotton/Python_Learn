{
 "cells": [
  {
   "cell_type": "markdown",
   "metadata": {},
   "source": [
    "### Descrevendo um conjunto de dados\n",
    "\n",
    "Iremos realizar algumas descrições dos dados com histogramas para verificar a quantidade de alunos que tiraram determinada nota:"
   ]
  },
  {
   "cell_type": "code",
   "execution_count": 92,
   "metadata": {},
   "outputs": [],
   "source": [
    "from collections import Counter\n",
    "import matplotlib.pyplot as plt\n",
    "from typing import List\n",
    "import math"
   ]
  },
  {
   "cell_type": "code",
   "execution_count": 93,
   "metadata": {},
   "outputs": [
    {
     "data": {
      "text/plain": [
       "Counter({6: 3, 10: 2, 8: 2, 7: 1, 5: 1, 9: 1})"
      ]
     },
     "execution_count": 93,
     "metadata": {},
     "output_type": "execute_result"
    }
   ],
   "source": [
    "nota_alunos = [10, 8, 6, 8, 7, 5, 6, 9, 10, 6]\n",
    "\n",
    "nota_contador = Counter(nota_alunos)\n",
    "nota_contador # duas pessoas tiraram 10, duas tiraram 8, duas tiraram 6, uma tirou 7.5, e assim por diante"
   ]
  },
  {
   "cell_type": "code",
   "execution_count": 94,
   "metadata": {},
   "outputs": [],
   "source": [
    "valor_maximo = max(nota_alunos) # Adquire o valor máximo das notas, no caso, 10\n",
    "notas_x = range(0,10) # Cria um array de notas de 0 a 10"
   ]
  },
  {
   "cell_type": "code",
   "execution_count": 95,
   "metadata": {},
   "outputs": [
    {
     "data": {
      "text/plain": [
       "[0, 0, 0, 0, 0, 1, 3, 1, 2, 1]"
      ]
     },
     "execution_count": 95,
     "metadata": {},
     "output_type": "execute_result"
    }
   ],
   "source": [
    "quantidade_por_nota_y = [nota_contador[nota] for nota in notas_x] # Adquire a quantidade de alunos que tiraram determinada nota\n",
    "quantidade_por_nota_y"
   ]
  },
  {
   "cell_type": "code",
   "execution_count": 96,
   "metadata": {},
   "outputs": [
    {
     "data": {
      "text/plain": [
       "Text(0, 0.5, 'Quantidade de alunos')"
      ]
     },
     "execution_count": 96,
     "metadata": {},
     "output_type": "execute_result"
    },
    {
     "data": {
      "image/png": "[encoded data removed]",
      "text/plain": [
       "<Figure size 640x480 with 1 Axes>"
      ]
     },
     "metadata": {},
     "output_type": "display_data"
    }
   ],
   "source": [
    "plt.title('Histograma das contagens das notas')\n",
    "plt.bar(x=notas_x, height=quantidade_por_nota_y)\n",
    "plt.xlabel('Notas')\n",
    "plt.ylabel('Quantidade de alunos')"
   ]
  },
  {
   "cell_type": "markdown",
   "metadata": {},
   "source": [
    "### Algebra Linear\n",
    "\n",
    "Soma dos quadrados.\n",
    "\n",
    "Precisamos dessa função de Algebra Linear para realizar algum dos cálculo abaixo."
   ]
  },
  {
   "cell_type": "code",
   "execution_count": 97,
   "metadata": {},
   "outputs": [
    {
     "data": {
      "text/plain": [
       "591"
      ]
     },
     "execution_count": 97,
     "metadata": {},
     "output_type": "execute_result"
    }
   ],
   "source": [
    "def soma_dos_quadrados(xs: List[float]) -> float:\n",
    "    quadrados_dos_xs = [x * x for x in xs]\n",
    "    return sum(quadrados_dos_xs)\n",
    "\n",
    "soma_dos_quadrados(nota_alunos)"
   ]
  },
  {
   "cell_type": "markdown",
   "metadata": {},
   "source": [
    "O produto escalar de dois vetores é a soma dos produtos por componente."
   ]
  },
  {
   "cell_type": "code",
   "execution_count": 98,
   "metadata": {},
   "outputs": [],
   "source": [
    "def produto_escalar(vector1: List[float], vector2: List[float]) -> float:\n",
    "    assert len(vector1) == len(vector2), \"As listas devem ter o mesmo comprimento\"\n",
    "    print('Visualização da compactação das listas:', list(zip(vector1, vector2)))\n",
    "    return sum(v_1 * v_2 for v_1, v_2 in zip(vector1, vector2))"
   ]
  },
  {
   "cell_type": "markdown",
   "metadata": {},
   "source": [
    "### Tendências Centrais\n",
    "\n",
    "Geralmente, queremos ter alguma noção sobre o ponto central dos dados. Para isso, costumamos usar a *média*, que consiste na soma dos dados dividido pela sua contagem."
   ]
  },
  {
   "cell_type": "code",
   "execution_count": 99,
   "metadata": {},
   "outputs": [
    {
     "data": {
      "text/plain": [
       "7.5"
      ]
     },
     "execution_count": 99,
     "metadata": {},
     "output_type": "execute_result"
    }
   ],
   "source": [
    "def media(xs: List[float]) -> float:\n",
    "    return sum(xs) / len(xs)\n",
    "\n",
    "media(nota_alunos) # Média das notas dos alunos"
   ]
  },
  {
   "cell_type": "markdown",
   "metadata": {},
   "source": [
    "Também temos a *mediana*, que corresponde ao valor do meio (quando o número de pontos de dados é **ímpar**) ou à média dos dois valores do meio (quando o número de pontos de dados é **par**)."
   ]
  },
  {
   "cell_type": "code",
   "execution_count": 100,
   "metadata": {},
   "outputs": [],
   "source": [
    "# Para listas com tamanho ímpar\n",
    "def _mediana_impar(xs: List[float]) -> float:\n",
    "    '''Se len(xs) for ímpar, a mediana será o elemento do meio'''\n",
    "    return sorted(xs)[len(xs) // 2] # Ordena a lista e em seguida, adquire o elemento do meio da lista\n",
    "\n",
    "# Para listas com tamanho par\n",
    "def _mediana_par(xs: List[float]) -> float:\n",
    "    '''Se len(xs) for par, a mediana será a média dos dois elementos do meio'''\n",
    "    xs_ordenado = sorted(xs)\n",
    "    meio = len(xs) // 2 # Por exemplo: Se o array tem comprimento 4, o meio é 2\n",
    "    return (xs_ordenado[meio - 1] + xs_ordenado[meio]) / 2\n",
    "\n",
    "# Função pública que deve ser chamada para realizar mediana (aqui contem as verificações se a lista é par ou ímpar)\n",
    "def mediana(xs: List[float]) -> float:\n",
    "    return _mediana_par(xs) if len(xs) % 2 == 0 else _mediana_impar(xs)"
   ]
  },
  {
   "cell_type": "code",
   "execution_count": 101,
   "metadata": {},
   "outputs": [
    {
     "data": {
      "text/plain": [
       "7.5"
      ]
     },
     "execution_count": 101,
     "metadata": {},
     "output_type": "execute_result"
    }
   ],
   "source": [
    "# Mediana das notas:\n",
    "mediana(nota_alunos)"
   ]
  },
  {
   "cell_type": "markdown",
   "metadata": {},
   "source": [
    "### Dispersão\n",
    "\n",
    "A *dispersão* expressa a medida da distribuição dos dados. Aqui, em geral:\n",
    "\n",
    "Os valores **próximos de zero** indicam que os dados **não estão espalhados**.\n",
    "\n",
    "Os valores **maiores** (ou algo assim) indicam dados **muito espalhados**.\n",
    "\n",
    "Por exemplo, uma medida simples disso é a *amplitude*, a diferença entre o maior elemento e o menor."
   ]
  },
  {
   "cell_type": "code",
   "execution_count": 102,
   "metadata": {},
   "outputs": [
    {
     "data": {
      "text/plain": [
       "5"
      ]
     },
     "execution_count": 102,
     "metadata": {},
     "output_type": "execute_result"
    }
   ],
   "source": [
    "# A diferença entre o maior elemento e o menor\n",
    "def diferenca(xs: List[float]) -> float:\n",
    "    return max(nota_alunos) - min(nota_alunos)\n",
    "\n",
    "diferenca(nota_alunos)"
   ]
  },
  {
   "cell_type": "markdown",
   "metadata": {},
   "source": [
    "Uma médida de dispersão mais complexa é a **variância**."
   ]
  },
  {
   "cell_type": "code",
   "execution_count": 103,
   "metadata": {},
   "outputs": [
    {
     "data": {
      "text/plain": [
       "1.85"
      ]
     },
     "execution_count": 103,
     "metadata": {},
     "output_type": "execute_result"
    }
   ],
   "source": [
    "def subtrai_medias(xs: List[float]) -> List[float]:\n",
    "    '''Traduza xs subtraindo sua média (para que o resultado tenha média 0)'''\n",
    "    x_media = media(xs)\n",
    "    return [x - x_media for x in xs]\n",
    "\n",
    "def variancia(xs: List[float]) -> float:\n",
    "    '''Quase o desvio quadrado médio da média'''\n",
    "    comprimento_xs = len(xs)\n",
    "    assert comprimento_xs >= 2, \"xs precisa ter ao menos 2 elementos\"\n",
    "\n",
    "    desvios = subtrai_medias(xs)\n",
    "    return soma_dos_quadrados(desvios) / comprimento_xs -1\n",
    "\n",
    "variancia(nota_alunos) # O resultado indica que os dados não estão espalhados"
   ]
  },
  {
   "cell_type": "markdown",
   "metadata": {},
   "source": [
    "**Desvio padrão**"
   ]
  },
  {
   "cell_type": "code",
   "execution_count": 104,
   "metadata": {},
   "outputs": [
    {
     "data": {
      "text/plain": [
       "1.3601470508735443"
      ]
     },
     "execution_count": 104,
     "metadata": {},
     "output_type": "execute_result"
    }
   ],
   "source": [
    "def desvio_padrao(xs: List[float]) -> float:\n",
    "    '''O desvio-padrão é a raiz quadrada da variância'''\n",
    "    return math.sqrt(variancia(xs))\n",
    "\n",
    "desvio_padrao(nota_alunos)"
   ]
  },
  {
   "cell_type": "markdown",
   "metadata": {},
   "source": [
    "### Correlação\n",
    "\n",
    "Há uma hipótese: o tempo que um aluno passa estudando está associado às suas notas. Vamos verificar essa hipótese.\n",
    "\n",
    "Primeiro, analisaremos a **covariância**, um tipo de variância aplicada a pares. Se a variância mede o desvio de uma variável da média, a *covariância* mede a variação simultânea de duas variáveis em relação às suas médias.\n",
    "\n",
    "Uma **covariância positiva** \"alta\" indica que **x** tende a ser alto quando **y** é alto, e **x** tende a ser baixo quando **y** é baixo.\n",
    "\n",
    "Uma **covariância negativa** \"alta\" indica o oposto, que **x** tende a ser baixo quando **y** é alto e vice e versa.\n",
    "\n",
    "Uma **covariância próxima de zero indica que essa relação não existe**."
   ]
  },
  {
   "cell_type": "code",
   "execution_count": 113,
   "metadata": {},
   "outputs": [],
   "source": [
    "tempo_estudos = [4, 10, 7, 6, 2, 2, 1, 9, 6, 7, 1, 10, 8, 2, 2, 2, 3, 5, 4, \n",
    "                 3, 6, 1, 3, 4, 5, 8, 2, 5, 6, 0]\n",
    "\n",
    "nota_alunos = [4, 10, 7, 6, 3, 5, 2, 8, 8, 6, 2, 8, 7, 4, 4, 4, 4, 6, 4, \n",
    "               4, 6, 4, 5, 3, 6, 8, 3, 7, 8, 10]"
   ]
  },
  {
   "cell_type": "code",
   "execution_count": 106,
   "metadata": {},
   "outputs": [],
   "source": [
    "def covariancia(xs: List[float], ys: List[float]) -> float:\n",
    "    assert len(xs) == len(ys), \"As listas devem ter o mesmo comprimento\"\n",
    "\n",
    "    return produto_escalar(subtrai_medias(xs), subtrai_medias(ys)) / len(xs) - 1"
   ]
  },
  {
   "cell_type": "code",
   "execution_count": 107,
   "metadata": {},
   "outputs": [
    {
     "name": "stdout",
     "output_type": "stream",
     "text": [
      "Visualização da compactação das listas: [(-1.5333333333333332, -0.43333333333333357), (4.466666666666667, 5.566666666666666), (1.4666666666666668, 2.5666666666666664), (0.4666666666666668, 1.5666666666666664), (-2.533333333333333, -2.4333333333333336), (-0.5333333333333332, -2.4333333333333336), (-3.533333333333333, -3.4333333333333336), (2.466666666666667, 4.566666666666666), (2.466666666666667, 1.5666666666666664), (0.4666666666666668, 2.5666666666666664), (-3.533333333333333, -4.433333333333334), (2.466666666666667, 5.566666666666666), (1.4666666666666668, 3.5666666666666664), (-1.5333333333333332, -2.4333333333333336), (-1.5333333333333332, -2.4333333333333336), (-1.5333333333333332, -2.4333333333333336), (-1.5333333333333332, -1.4333333333333336), (0.4666666666666668, 0.5666666666666664), (-1.5333333333333332, -0.43333333333333357), (-1.5333333333333332, -1.4333333333333336), (0.4666666666666668, 1.5666666666666664), (-1.5333333333333332, -3.4333333333333336), (-0.5333333333333332, -1.4333333333333336), (-2.533333333333333, -0.43333333333333357), (0.4666666666666668, 0.5666666666666664), (2.466666666666667, 3.5666666666666664), (-2.533333333333333, -2.4333333333333336), (1.4666666666666668, 0.5666666666666664), (2.466666666666667, 1.5666666666666664), (4.466666666666667, -4.433333333333334)]\n"
     ]
    },
    {
     "data": {
      "text/plain": [
       "3.1688888888888878"
      ]
     },
     "execution_count": 107,
     "metadata": {},
     "output_type": "execute_result"
    }
   ],
   "source": [
    "covariancia(nota_alunos, tempo_estudos)"
   ]
  },
  {
   "cell_type": "markdown",
   "metadata": {},
   "source": [
    "Porém, é mais comum calcular a **correlação**, que divide os *desvios-padrão* das duas variáveis:"
   ]
  },
  {
   "cell_type": "code",
   "execution_count": 108,
   "metadata": {},
   "outputs": [
    {
     "name": "stdout",
     "output_type": "stream",
     "text": [
      "Visualização da compactação das listas: [(-1.5333333333333332, -0.43333333333333357), (4.466666666666667, 5.566666666666666), (1.4666666666666668, 2.5666666666666664), (0.4666666666666668, 1.5666666666666664), (-2.533333333333333, -2.4333333333333336), (-0.5333333333333332, -2.4333333333333336), (-3.533333333333333, -3.4333333333333336), (2.466666666666667, 4.566666666666666), (2.466666666666667, 1.5666666666666664), (0.4666666666666668, 2.5666666666666664), (-3.533333333333333, -4.433333333333334), (2.466666666666667, 5.566666666666666), (1.4666666666666668, 3.5666666666666664), (-1.5333333333333332, -2.4333333333333336), (-1.5333333333333332, -2.4333333333333336), (-1.5333333333333332, -2.4333333333333336), (-1.5333333333333332, -1.4333333333333336), (0.4666666666666668, 0.5666666666666664), (-1.5333333333333332, -0.43333333333333357), (-1.5333333333333332, -1.4333333333333336), (0.4666666666666668, 1.5666666666666664), (-1.5333333333333332, -3.4333333333333336), (-0.5333333333333332, -1.4333333333333336), (-2.533333333333333, -0.43333333333333357), (0.4666666666666668, 0.5666666666666664), (2.466666666666667, 3.5666666666666664), (-2.533333333333333, -2.4333333333333336), (1.4666666666666668, 0.5666666666666664), (2.466666666666667, 1.5666666666666664), (4.466666666666667, -4.433333333333334)]\n"
     ]
    },
    {
     "data": {
      "text/plain": [
       "0.625296915142125"
      ]
     },
     "execution_count": 108,
     "metadata": {},
     "output_type": "execute_result"
    }
   ],
   "source": [
    "def correlacao(xs: List[float], ys: List[float]) -> float:\n",
    "    '''Mede a variação simultânea de xs e ys a partir de suas médias'''\n",
    "    desvio_x = desvio_padrao(xs)\n",
    "    desvio_y = desvio_padrao(ys)\n",
    "\n",
    "    if desvio_x > 0 and desvio_y > 0:\n",
    "        return covariancia(xs, ys) / desvio_x / desvio_y\n",
    "    else:\n",
    "        return 0 # Se não houver variação, a correlação será zero\n",
    "    \n",
    "correlacao(nota_alunos, tempo_estudos)"
   ]
  },
  {
   "cell_type": "markdown",
   "metadata": {},
   "source": [
    "A correlação não tem unidade e sempre fica entre -1 (anticorrelação perfeita) e 1 (correlação perfeita). O número 0.62 indica uma correlação positiva alta, pois está próxima de 1.\n",
    "\n",
    "Porém, até agora não examinamos os dados:"
   ]
  },
  {
   "cell_type": "code",
   "execution_count": 109,
   "metadata": {},
   "outputs": [
    {
     "data": {
      "text/plain": [
       "<matplotlib.collections.PathCollection at 0x2d574bb0dc0>"
      ]
     },
     "execution_count": 109,
     "metadata": {},
     "output_type": "execute_result"
    },
    {
     "data": {
      "image/png": "[encoded data removed]",
      "text/plain": [
       "<Figure size 640x480 with 1 Axes>"
      ]
     },
     "metadata": {},
     "output_type": "display_data"
    }
   ],
   "source": [
    "plt.scatter(x=tempo_estudos, y=nota_alunos)"
   ]
  },
  {
   "cell_type": "markdown",
   "metadata": {},
   "source": [
    "A pessoa que tirou 10 e que não estuda nada (tempo de estudos zero) é um outlier imenso, e a correlação pode ser muito sensível a isso. O que acontece se ignorarmos o outlier?"
   ]
  },
  {
   "cell_type": "code",
   "execution_count": 115,
   "metadata": {},
   "outputs": [
    {
     "data": {
      "text/plain": [
       "29"
      ]
     },
     "execution_count": 115,
     "metadata": {},
     "output_type": "execute_result"
    }
   ],
   "source": [
    "outlier = tempo_estudos.index(0) # Resgata o índice do outlier que o tempo de estudos é zero (0)\n",
    "outlier "
   ]
  },
  {
   "cell_type": "code",
   "execution_count": 116,
   "metadata": {},
   "outputs": [],
   "source": [
    "tempo_estudos_sem_outlier = [x for index, x in enumerate(tempo_estudos) if index != outlier] # Remove o índice do outlier do tempo estudos\n",
    "\n",
    "nota_alunos_sem_outlier = [x for index, x in enumerate(nota_alunos) if index != outlier] # Remove o índice do outlier do nota alunos"
   ]
  },
  {
   "cell_type": "code",
   "execution_count": 117,
   "metadata": {},
   "outputs": [
    {
     "data": {
      "text/plain": [
       "<matplotlib.collections.PathCollection at 0x2d574c6c250>"
      ]
     },
     "execution_count": 117,
     "metadata": {},
     "output_type": "execute_result"
    },
    {
     "data": {
      "image/png": "[encoded data removed]",
      "text/plain": [
       "<Figure size 640x480 with 1 Axes>"
      ]
     },
     "metadata": {},
     "output_type": "display_data"
    }
   ],
   "source": [
    "plt.scatter(x=tempo_estudos_sem_outlier, y=nota_alunos_sem_outlier)"
   ]
  },
  {
   "cell_type": "markdown",
   "metadata": {},
   "source": [
    "Sem o outlier, a correlação é bem mais forte:"
   ]
  },
  {
   "cell_type": "code",
   "execution_count": 119,
   "metadata": {},
   "outputs": [
    {
     "name": "stdout",
     "output_type": "stream",
     "text": [
      "Visualização da compactação das listas: [(-1.3793103448275863, -0.6206896551724137), (4.620689655172414, 5.379310344827586), (1.6206896551724137, 2.3793103448275863), (0.6206896551724137, 1.3793103448275863), (-2.3793103448275863, -2.6206896551724137), (-0.3793103448275863, -2.6206896551724137), (-3.3793103448275863, -3.6206896551724137), (2.6206896551724137, 4.379310344827586), (2.6206896551724137, 1.3793103448275863), (0.6206896551724137, 2.3793103448275863), (-3.3793103448275863, -3.6206896551724137), (2.6206896551724137, 5.379310344827586), (1.6206896551724137, 3.3793103448275863), (-1.3793103448275863, -2.6206896551724137), (-1.3793103448275863, -2.6206896551724137), (-1.3793103448275863, -2.6206896551724137), (-1.3793103448275863, -1.6206896551724137), (0.6206896551724137, 0.3793103448275863), (-1.3793103448275863, -0.6206896551724137), (-1.3793103448275863, -1.6206896551724137), (0.6206896551724137, 1.3793103448275863), (-1.3793103448275863, -3.6206896551724137), (-0.3793103448275863, -1.6206896551724137), (-2.3793103448275863, -0.6206896551724137), (0.6206896551724137, 0.3793103448275863), (2.6206896551724137, 3.3793103448275863), (-2.3793103448275863, -2.6206896551724137), (1.6206896551724137, 0.3793103448275863), (2.6206896551724137, 1.3793103448275863)]\n"
     ]
    },
    {
     "data": {
      "text/plain": [
       "0.8806956213434156"
      ]
     },
     "execution_count": 119,
     "metadata": {},
     "output_type": "execute_result"
    }
   ],
   "source": [
    "correlacao(nota_alunos_sem_outlier, tempo_estudos_sem_outlier)"
   ]
  }
 ],
 "metadata": {
  "kernelspec": {
   "display_name": "Python 3",
   "language": "python",
   "name": "python3"
  },
  "language_info": {
   "codemirror_mode": {
    "name": "ipython",
    "version": 3
   },
   "file_extension": ".py",
   "mimetype": "text/x-python",
   "name": "python",
   "nbconvert_exporter": "python",
   "pygments_lexer": "ipython3",
   "version": "3.10.10"
  }
 },
 "nbformat": 4,
 "nbformat_minor": 2
}
