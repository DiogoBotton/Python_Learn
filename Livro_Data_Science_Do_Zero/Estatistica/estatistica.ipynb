{
 "cells": [
  {
   "cell_type": "markdown",
   "metadata": {},
   "source": [
    "### Descrevendo um conjunto de dados\n",
    "\n",
    "Iremos realizar algumas descrições dos dados com histogramas para verificar a quantidade de alunos que tiraram determinada nota:"
   ]
  },
  {
   "cell_type": "code",
   "execution_count": 123,
   "metadata": {},
   "outputs": [],
   "source": [
    "from collections import Counter\n",
    "import matplotlib.pyplot as plt\n",
    "from typing import List\n",
    "import math"
   ]
  },
  {
   "cell_type": "code",
   "execution_count": 124,
   "metadata": {},
   "outputs": [
    {
     "data": {
      "text/plain": [
       "Counter({6: 3, 10: 2, 8: 2, 7: 1, 5: 1, 9: 1})"
      ]
     },
     "execution_count": 124,
     "metadata": {},
     "output_type": "execute_result"
    }
   ],
   "source": [
    "nota_alunos = [10, 8, 6, 8, 7, 5, 6, 9, 10, 6]\n",
    "\n",
    "nota_contador = Counter(nota_alunos)\n",
    "nota_contador # duas pessoas tiraram 10, duas tiraram 8, duas tiraram 6, uma tirou 7.5, e assim por diante"
   ]
  },
  {
   "cell_type": "code",
   "execution_count": 125,
   "metadata": {},
   "outputs": [],
   "source": [
    "valor_maximo = max(nota_alunos) # Adquire o valor máximo das notas, no caso, 10\n",
    "notas_x = range(0,10) # Cria um array de notas de 0 a 10"
   ]
  },
  {
   "cell_type": "code",
   "execution_count": 126,
   "metadata": {},
   "outputs": [
    {
     "data": {
      "text/plain": [
       "[0, 0, 0, 0, 0, 1, 3, 1, 2, 1]"
      ]
     },
     "execution_count": 126,
     "metadata": {},
     "output_type": "execute_result"
    }
   ],
   "source": [
    "quantidade_por_nota_y = [nota_contador[nota] for nota in notas_x] # Adquire a quantidade de alunos que tiraram determinada nota\n",
    "quantidade_por_nota_y"
   ]
  },
  {
   "cell_type": "code",
   "execution_count": 127,
   "metadata": {},
   "outputs": [
    {
     "data": {
      "text/plain": [
       "Text(0, 0.5, 'Quantidade de alunos')"
      ]
     },
     "execution_count": 127,
     "metadata": {},
     "output_type": "execute_result"
    },
    {
     "data": {
      "image/png": "[encoded data removed]",
      "text/plain": [
       "<Figure size 640x480 with 1 Axes>"
      ]
     },
     "metadata": {},
     "output_type": "display_data"
    }
   ],
   "source": [
    "plt.title('Histograma das contagens das notas')\n",
    "plt.bar(x=notas_x, height=quantidade_por_nota_y)\n",
    "plt.xlabel('Notas')\n",
    "plt.ylabel('Quantidade de alunos')"
   ]
  },
  {
   "cell_type": "markdown",
   "metadata": {},
   "source": [
    "### Algebra Linear\n",
    "\n",
    "Soma dos quadrados.\n",
    "\n",
    "Precisamos dessa função de Algebra Linear para realizar algum dos cálculo abaixo."
   ]
  },
  {
   "cell_type": "code",
   "execution_count": 128,
   "metadata": {},
   "outputs": [
    {
     "data": {
      "text/plain": [
       "591"
      ]
     },
     "execution_count": 128,
     "metadata": {},
     "output_type": "execute_result"
    }
   ],
   "source": [
    "def soma_dos_quadrados(xs: List[float]) -> float:\n",
    "    quadrados_dos_xs = [x * x for x in xs]\n",
    "    return sum(quadrados_dos_xs)\n",
    "\n",
    "soma_dos_quadrados(nota_alunos)"
   ]
  },
  {
   "cell_type": "markdown",
   "metadata": {},
   "source": [
    "### Tendências Centrais\n",
    "\n",
    "Geralmente, queremos ter alguma noção sobre o ponto central dos dados. Para isso, costumamos usar a *média*, que consiste na soma dos dados dividido pela sua contagem."
   ]
  },
  {
   "cell_type": "code",
   "execution_count": 129,
   "metadata": {},
   "outputs": [
    {
     "data": {
      "text/plain": [
       "7.5"
      ]
     },
     "execution_count": 129,
     "metadata": {},
     "output_type": "execute_result"
    }
   ],
   "source": [
    "def media(xs: List[float]) -> float:\n",
    "    return sum(xs) / len(xs)\n",
    "\n",
    "media(nota_alunos) # Média das notas dos alunos"
   ]
  },
  {
   "cell_type": "markdown",
   "metadata": {},
   "source": [
    "Também temos a *mediana*, que corresponde ao valor do meio (quando o número de pontos de dados é **ímpar**) ou à média dos dois valores do meio (quando o número de pontos de dados é **par**)."
   ]
  },
  {
   "cell_type": "code",
   "execution_count": 130,
   "metadata": {},
   "outputs": [],
   "source": [
    "# Para listas com tamanho ímpar\n",
    "def _mediana_impar(xs: List[float]) -> float:\n",
    "    '''Se len(xs) for ímpar, a mediana será o elemento do meio'''\n",
    "    return sorted(xs)[len(xs) // 2] # Ordena a lista e em seguida, adquire o elemento do meio da lista\n",
    "\n",
    "# Para listas com tamanho par\n",
    "def _mediana_par(xs: List[float]) -> float:\n",
    "    '''Se len(xs) for par, a mediana será a média dos dois elementos do meio'''\n",
    "    xs_ordenado = sorted(xs)\n",
    "    meio = len(xs) // 2 # Por exemplo: Se o array tem comprimento 4, o meio é 2\n",
    "    return (xs_ordenado[meio - 1] + xs_ordenado[meio]) / 2\n",
    "\n",
    "# Função pública que deve ser chamada para realizar mediana (aqui contem as verificações se a lista é par ou ímpar)\n",
    "def mediana(xs: List[float]) -> float:\n",
    "    return _mediana_par(xs) if len(xs) % 2 == 0 else _mediana_impar(xs)"
   ]
  },
  {
   "cell_type": "code",
   "execution_count": 131,
   "metadata": {},
   "outputs": [
    {
     "data": {
      "text/plain": [
       "7.5"
      ]
     },
     "execution_count": 131,
     "metadata": {},
     "output_type": "execute_result"
    }
   ],
   "source": [
    "# Mediana das notas:\n",
    "mediana(nota_alunos)"
   ]
  },
  {
   "cell_type": "markdown",
   "metadata": {},
   "source": [
    "### Dispersão\n",
    "\n",
    "A *dispersão* expressa a medida da distribuição dos dados. Aqui, em geral:\n",
    "\n",
    "Os valores **próximos de zero** indicam que os dados **não estão espalhados**.\n",
    "\n",
    "Os valores **maiores** (ou algo assim) indicam dados **muito espalhados**.\n",
    "\n",
    "Por exemplo, uma medida simples disso é a *amplitude*, a diferença entre o maior elemento e o menor."
   ]
  },
  {
   "cell_type": "code",
   "execution_count": 132,
   "metadata": {},
   "outputs": [
    {
     "data": {
      "text/plain": [
       "5"
      ]
     },
     "execution_count": 132,
     "metadata": {},
     "output_type": "execute_result"
    }
   ],
   "source": [
    "# A diferença entre o maior elemento e o menor\n",
    "def diferenca(xs: List[float]) -> float:\n",
    "    return max(nota_alunos) - min(nota_alunos)\n",
    "\n",
    "diferenca(nota_alunos)"
   ]
  },
  {
   "cell_type": "markdown",
   "metadata": {},
   "source": [
    "Uma médida de dispersão mais complexa é a **variância**."
   ]
  },
  {
   "cell_type": "code",
   "execution_count": 133,
   "metadata": {},
   "outputs": [
    {
     "data": {
      "text/plain": [
       "1.85"
      ]
     },
     "execution_count": 133,
     "metadata": {},
     "output_type": "execute_result"
    }
   ],
   "source": [
    "def subtrai_medias(xs: List[float]) -> List[float]:\n",
    "    '''Traduza xs subtraindo sua média (para que o resultado tenha média 0)'''\n",
    "    x_media = media(xs)\n",
    "    return [x - x_media for x in xs]\n",
    "\n",
    "def variancia(xs: List[float]) -> float:\n",
    "    '''Quase o desvio quadrado médio da média'''\n",
    "    comprimento_xs = len(xs)\n",
    "    assert comprimento_xs >= 2, \"xs precisa ter ao menos 2 elementos\"\n",
    "\n",
    "    desvios = subtrai_medias(xs)\n",
    "    return soma_dos_quadrados(desvios) / comprimento_xs -1\n",
    "\n",
    "variancia(nota_alunos) # O resultado indica que os dados não estão espalhados"
   ]
  },
  {
   "cell_type": "markdown",
   "metadata": {},
   "source": [
    "**Desvio padrão**"
   ]
  },
  {
   "cell_type": "code",
   "execution_count": 134,
   "metadata": {},
   "outputs": [
    {
     "data": {
      "text/plain": [
       "1.3601470508735443"
      ]
     },
     "execution_count": 134,
     "metadata": {},
     "output_type": "execute_result"
    }
   ],
   "source": [
    "def desvio_padrao(xs: List[float]) -> float:\n",
    "    '''O desvio-padrão é a raiz quadrada da variância'''\n",
    "    return math.sqrt(variancia(xs))\n",
    "\n",
    "desvio_padrao(nota_alunos)"
   ]
  }
 ],
 "metadata": {
  "kernelspec": {
   "display_name": "Python 3",
   "language": "python",
   "name": "python3"
  },
  "language_info": {
   "codemirror_mode": {
    "name": "ipython",
    "version": 3
   },
   "file_extension": ".py",
   "mimetype": "text/x-python",
   "name": "python",
   "nbconvert_exporter": "python",
   "pygments_lexer": "ipython3",
   "version": "3.10.10"
  }
 },
 "nbformat": 4,
 "nbformat_minor": 2
}
