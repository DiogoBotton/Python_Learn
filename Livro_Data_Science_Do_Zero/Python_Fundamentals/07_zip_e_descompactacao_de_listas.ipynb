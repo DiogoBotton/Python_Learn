{
 "cells": [
  {
   "cell_type": "markdown",
   "metadata": {},
   "source": [
    "Muitas vezes, teremos que *zipar* (compactar) duas ou mais listas. A função **zip** transforma vários iteráveis em um só iterável de tuplas da função correspondente."
   ]
  },
  {
   "cell_type": "code",
   "execution_count": 38,
   "metadata": {},
   "outputs": [],
   "source": [
    "pessoas = ['Diogo', 'Vanessa', 'Carlos', 'Luiza']\n",
    "idades = [24, 25]"
   ]
  },
  {
   "cell_type": "markdown",
   "metadata": {},
   "source": [
    "**OBS.** Quando as listas têm tamanhos diferentes, o zip **para ao final da primeira**."
   ]
  },
  {
   "cell_type": "code",
   "execution_count": 39,
   "metadata": {},
   "outputs": [
    {
     "data": {
      "text/plain": [
       "[('Diogo', 24), ('Vanessa', 25)]"
      ]
     },
     "execution_count": 39,
     "metadata": {},
     "output_type": "execute_result"
    }
   ],
   "source": [
    "# O zip é um processo um pouco lento\n",
    "pessoas_idades = [par for par in zip(pessoas, idades)]\n",
    "pessoas_idades"
   ]
  },
  {
   "cell_type": "markdown",
   "metadata": {},
   "source": [
    "Também podemos **extrair** uma lista usando um truque um pouco incomum (utilizando asteriscos).\n",
    "\n",
    "O asterisco executa a *descompactação de argumento*"
   ]
  },
  {
   "cell_type": "code",
   "execution_count": 40,
   "metadata": {},
   "outputs": [],
   "source": [
    "pessoas_extraido, idades_extraido = zip(*pessoas_idades) # Utilizando * (asteriscos) para extrair uma tupla de nomes e uma tupla de idades"
   ]
  },
  {
   "cell_type": "code",
   "execution_count": 41,
   "metadata": {},
   "outputs": [
    {
     "data": {
      "text/plain": [
       "('Diogo', 'Vanessa')"
      ]
     },
     "execution_count": 41,
     "metadata": {},
     "output_type": "execute_result"
    }
   ],
   "source": [
    "pessoas_extraido"
   ]
  },
  {
   "cell_type": "code",
   "execution_count": 42,
   "metadata": {},
   "outputs": [
    {
     "data": {
      "text/plain": [
       "(24, 25)"
      ]
     },
     "execution_count": 42,
     "metadata": {},
     "output_type": "execute_result"
    }
   ],
   "source": [
    "idades_extraido"
   ]
  },
  {
   "cell_type": "markdown",
   "metadata": {},
   "source": [
    "Seria a mesma coisa que fazer da forma abaixo, pois o argumento que está sendo passado ao zip são tuplas, e o asterisco extrai as listas."
   ]
  },
  {
   "cell_type": "code",
   "execution_count": 43,
   "metadata": {},
   "outputs": [
    {
     "data": {
      "text/plain": [
       "('Diogo', 'Vanessa')"
      ]
     },
     "execution_count": 43,
     "metadata": {},
     "output_type": "execute_result"
    }
   ],
   "source": [
    "pessoas_extraido_2, idades_extraido_2 = zip(('Diogo', 24), ('Vanessa', 25))\n",
    "pessoas_extraido"
   ]
  },
  {
   "cell_type": "code",
   "execution_count": 44,
   "metadata": {},
   "outputs": [
    {
     "name": "stdout",
     "output_type": "stream",
     "text": [
      "[('Diogo', 24), ('Vanessa', 25)]\n",
      "('Diogo', 24) ('Vanessa', 25)\n"
     ]
    }
   ],
   "source": [
    "print(pessoas_idades)\n",
    "print(*pessoas_idades)"
   ]
  }
 ],
 "metadata": {
  "kernelspec": {
   "display_name": "Python 3",
   "language": "python",
   "name": "python3"
  },
  "language_info": {
   "codemirror_mode": {
    "name": "ipython",
    "version": 3
   },
   "file_extension": ".py",
   "mimetype": "text/x-python",
   "name": "python",
   "nbconvert_exporter": "python",
   "pygments_lexer": "ipython3",
   "version": "3.10.10"
  }
 },
 "nbformat": 4,
 "nbformat_minor": 2
}
