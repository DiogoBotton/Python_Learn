{
 "cells": [
  {
   "cell_type": "markdown",
   "metadata": {},
   "source": [
    "Args e Kwargs são argumentos arbitrários, isto é, podemos utiliza-los para especificar os parâmetros de uma função que recebem mais de um argumento.\n",
    "\n",
    "Podemos fazer isso usando a descompactação de argumentos:"
   ]
  },
  {
   "cell_type": "code",
   "execution_count": 61,
   "metadata": {},
   "outputs": [],
   "source": [
    "def magica(*args, **kwargs):\n",
    "    print('args sem nome:', args)\n",
    "    print('args palavras-chave', kwargs)"
   ]
  },
  {
   "cell_type": "code",
   "execution_count": 62,
   "metadata": {},
   "outputs": [
    {
     "name": "stdout",
     "output_type": "stream",
     "text": [
      "args sem nome: (1, 2)\n",
      "args palavras-chave {'chave_1': 'banana', 'chave_2': 'maça'}\n"
     ]
    }
   ],
   "source": [
    "magica(1, 2, chave_1 = 'banana', chave_2 = 'maça')"
   ]
  },
  {
   "cell_type": "markdown",
   "metadata": {},
   "source": [
    "Ou seja, quando definimos uma função como essa, *args* é uma **tupla dos seus argumentos sem nome** e *kwargs* **é um dict (dicionário) dos seus argumentos nomeados**.\n",
    "\n",
    "Isso também funciona no sentido contrário, quando você quer usar uma lista (ou tupla) e um dicionário para **fornecer** argumentos a uma função:"
   ]
  },
  {
   "cell_type": "code",
   "execution_count": 63,
   "metadata": {},
   "outputs": [],
   "source": [
    "def outra_magica (x, y, z):\n",
    "    return x + y + z"
   ]
  },
  {
   "cell_type": "code",
   "execution_count": 64,
   "metadata": {},
   "outputs": [],
   "source": [
    "x_y_list = [1, 2]\n",
    "z_dict = {\"z\": 3}"
   ]
  },
  {
   "cell_type": "markdown",
   "metadata": {},
   "source": [
    "Funciona como uma descompactação (*notebook 07*), onde:\n",
    "- 1° parâmetro seria a descompactação de uma lista.\n",
    "    - No caso, descompacta o array [1, 2] em x e y.\n",
    "- 2° parâmetro a descompactação de um dicionário.\n",
    "    - No caso, descompacta o dicionário em apenas uma váriavel (z), porém, se a chave do dicionário for um nome diferente do nome do parâmetro esperado pela função, haverá um erro."
   ]
  },
  {
   "cell_type": "code",
   "execution_count": 65,
   "metadata": {},
   "outputs": [
    {
     "name": "stdout",
     "output_type": "stream",
     "text": [
      "6\n"
     ]
    }
   ],
   "source": [
    "resultado = outra_magica(*x_y_list, **z_dict)\n",
    "assert resultado == 6, \"1 + 2 + 3 deve ser igual à 6\"\n",
    "print(resultado)"
   ]
  },
  {
   "cell_type": "markdown",
   "metadata": {},
   "source": [
    "Iremos utilizar esse recurso para produzir **funções de alta ordem** com entradas que aceitem **argumentos arbitrários**.\n",
    "\n",
    "Imagine que queremos criar uma função de alta ordem chamada \"dobro\" que receba como entrada uma função \"soma\" e retornará uma nova função. A função \"dobro\" irá retornar duas vezes o valor de \"soma\" para qualquer entrada:"
   ]
  },
  {
   "cell_type": "code",
   "execution_count": 66,
   "metadata": {},
   "outputs": [],
   "source": [
    "def soma(x, y):\n",
    "    return x + y\n",
    "\n",
    "def dobro(funcao):\n",
    "    '''Funciona para qualquer entrada recebida por funcao'''\n",
    "    def nova_funcao(*args, **kwargs):\n",
    "        '''Todo argumento fornecido para nova_funcao deve ser transmitido para funcao'''\n",
    "        return 2 * funcao(*args, **kwargs)\n",
    "    \n",
    "    return nova_funcao"
   ]
  },
  {
   "cell_type": "markdown",
   "metadata": {},
   "source": [
    "*Dobro* recebe a função *soma*."
   ]
  },
  {
   "cell_type": "code",
   "execution_count": 67,
   "metadata": {},
   "outputs": [
    {
     "name": "stdout",
     "output_type": "stream",
     "text": [
      "6\n"
     ]
    }
   ],
   "source": [
    "nova_funcao = dobro(soma)\n",
    "\n",
    "resultado = nova_funcao(1, 2) # 2 * (1+2)\n",
    "\n",
    "assert resultado == 6, \"2 * (1+2) deve ser igual à 6\"\n",
    "print(resultado)"
   ]
  },
  {
   "cell_type": "markdown",
   "metadata": {},
   "source": [
    "*Dobro* recebe a função *produto*."
   ]
  },
  {
   "cell_type": "code",
   "execution_count": 68,
   "metadata": {},
   "outputs": [
    {
     "name": "stdout",
     "output_type": "stream",
     "text": [
      "4\n"
     ]
    }
   ],
   "source": [
    "def produto(x, y):\n",
    "    return x * y\n",
    "\n",
    "outra_funcao = dobro(produto)\n",
    "\n",
    "resultado = outra_funcao(1,2)\n",
    "assert resultado == 4, \"2 * (1*2) deve ser igual à 4\"\n",
    "print(resultado)"
   ]
  }
 ],
 "metadata": {
  "kernelspec": {
   "display_name": "Python 3",
   "language": "python",
   "name": "python3"
  },
  "language_info": {
   "codemirror_mode": {
    "name": "ipython",
    "version": 3
   },
   "file_extension": ".py",
   "mimetype": "text/x-python",
   "name": "python",
   "nbconvert_exporter": "python",
   "pygments_lexer": "ipython3",
   "version": "3.10.10"
  }
 },
 "nbformat": 4,
 "nbformat_minor": 2
}
